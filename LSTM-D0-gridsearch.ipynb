{
 "cells": [
  {
   "cell_type": "code",
   "execution_count": 181,
   "id": "1c246db4-f30c-485b-91d4-3b06f076ec43",
   "metadata": {},
   "outputs": [],
   "source": [
    "import warnings\n",
    "warnings.filterwarnings('ignore')\n",
    "\n",
    "import os\n",
    "import numpy as np\n",
    "import pandas as pd\n",
    "import tensorflow as tf\n",
    "import matplotlib.pyplot as plt\n",
    "import sklearn.preprocessing\n",
    "from sklearn.metrics import r2_score\n",
    "\n",
    "from keras.layers import Dense,Dropout,SimpleRNN,LSTM\n",
    "from keras.models import Sequential\n",
    "\n",
    "plt.rcParams['font.family'] = 'Malgun Gothic'"
   ]
  },
  {
   "cell_type": "markdown",
   "id": "182b13c0-c179-48a7-a53f-7c384ebcd3bf",
   "metadata": {},
   "source": [
    "# 데이터 로드"
   ]
  },
  {
   "cell_type": "code",
   "execution_count": 182,
   "id": "9a0c14d7-44ad-47e3-ac02-539da22d6529",
   "metadata": {},
   "outputs": [
    {
     "data": {
      "text/html": [
       "<div>\n",
       "<style scoped>\n",
       "    .dataframe tbody tr th:only-of-type {\n",
       "        vertical-align: middle;\n",
       "    }\n",
       "\n",
       "    .dataframe tbody tr th {\n",
       "        vertical-align: top;\n",
       "    }\n",
       "\n",
       "    .dataframe thead th {\n",
       "        text-align: right;\n",
       "    }\n",
       "</style>\n",
       "<table border=\"1\" class=\"dataframe\">\n",
       "  <thead>\n",
       "    <tr style=\"text-align: right;\">\n",
       "      <th></th>\n",
       "      <th>구분</th>\n",
       "      <th>공급량</th>\n",
       "    </tr>\n",
       "    <tr>\n",
       "      <th>시점</th>\n",
       "      <th></th>\n",
       "      <th></th>\n",
       "    </tr>\n",
       "  </thead>\n",
       "  <tbody>\n",
       "    <tr>\n",
       "      <th>2013-01-01 00:00:00</th>\n",
       "      <td>A</td>\n",
       "      <td>2497.129</td>\n",
       "    </tr>\n",
       "    <tr>\n",
       "      <th>2013-01-01 01:00:00</th>\n",
       "      <td>A</td>\n",
       "      <td>2363.265</td>\n",
       "    </tr>\n",
       "    <tr>\n",
       "      <th>2013-01-01 02:00:00</th>\n",
       "      <td>A</td>\n",
       "      <td>2258.505</td>\n",
       "    </tr>\n",
       "    <tr>\n",
       "      <th>2013-01-01 03:00:00</th>\n",
       "      <td>A</td>\n",
       "      <td>2243.969</td>\n",
       "    </tr>\n",
       "    <tr>\n",
       "      <th>2013-01-01 04:00:00</th>\n",
       "      <td>A</td>\n",
       "      <td>2344.105</td>\n",
       "    </tr>\n",
       "    <tr>\n",
       "      <th>...</th>\n",
       "      <td>...</td>\n",
       "      <td>...</td>\n",
       "    </tr>\n",
       "    <tr>\n",
       "      <th>2018-12-31 19:00:00</th>\n",
       "      <td>H</td>\n",
       "      <td>681.033</td>\n",
       "    </tr>\n",
       "    <tr>\n",
       "      <th>2018-12-31 20:00:00</th>\n",
       "      <td>H</td>\n",
       "      <td>669.961</td>\n",
       "    </tr>\n",
       "    <tr>\n",
       "      <th>2018-12-31 21:00:00</th>\n",
       "      <td>H</td>\n",
       "      <td>657.941</td>\n",
       "    </tr>\n",
       "    <tr>\n",
       "      <th>2018-12-31 22:00:00</th>\n",
       "      <td>H</td>\n",
       "      <td>610.953</td>\n",
       "    </tr>\n",
       "    <tr>\n",
       "      <th>2018-12-31 23:00:00</th>\n",
       "      <td>H</td>\n",
       "      <td>560.896</td>\n",
       "    </tr>\n",
       "  </tbody>\n",
       "</table>\n",
       "<p>368088 rows × 2 columns</p>\n",
       "</div>"
      ],
      "text/plain": [
       "                    구분       공급량\n",
       "시점                              \n",
       "2013-01-01 00:00:00  A  2497.129\n",
       "2013-01-01 01:00:00  A  2363.265\n",
       "2013-01-01 02:00:00  A  2258.505\n",
       "2013-01-01 03:00:00  A  2243.969\n",
       "2013-01-01 04:00:00  A  2344.105\n",
       "...                 ..       ...\n",
       "2018-12-31 19:00:00  H   681.033\n",
       "2018-12-31 20:00:00  H   669.961\n",
       "2018-12-31 21:00:00  H   657.941\n",
       "2018-12-31 22:00:00  H   610.953\n",
       "2018-12-31 23:00:00  H   560.896\n",
       "\n",
       "[368088 rows x 2 columns]"
      ]
     },
     "execution_count": 182,
     "metadata": {},
     "output_type": "execute_result"
    }
   ],
   "source": [
    "df = pd.read_csv('./train.csv')\n",
    "df['시점'] = pd.to_datetime(df['시점'], format='%Y-%m-%d %H')\n",
    "df.set_index('시점', inplace=True)\n",
    "df"
   ]
  },
  {
   "cell_type": "code",
   "execution_count": 183,
   "id": "83ff8102-2537-4ade-a5d3-7659c6dfe3a6",
   "metadata": {},
   "outputs": [
    {
     "data": {
      "text/html": [
       "<div>\n",
       "<style scoped>\n",
       "    .dataframe tbody tr th:only-of-type {\n",
       "        vertical-align: middle;\n",
       "    }\n",
       "\n",
       "    .dataframe tbody tr th {\n",
       "        vertical-align: top;\n",
       "    }\n",
       "\n",
       "    .dataframe thead th {\n",
       "        text-align: right;\n",
       "    }\n",
       "</style>\n",
       "<table border=\"1\" class=\"dataframe\">\n",
       "  <thead>\n",
       "    <tr style=\"text-align: right;\">\n",
       "      <th></th>\n",
       "      <th>구분</th>\n",
       "    </tr>\n",
       "    <tr>\n",
       "      <th>시점</th>\n",
       "      <th></th>\n",
       "    </tr>\n",
       "  </thead>\n",
       "  <tbody>\n",
       "    <tr>\n",
       "      <th>2019-01-01 00:00:00</th>\n",
       "      <td>A</td>\n",
       "    </tr>\n",
       "    <tr>\n",
       "      <th>2019-01-01 01:00:00</th>\n",
       "      <td>A</td>\n",
       "    </tr>\n",
       "    <tr>\n",
       "      <th>2019-01-01 02:00:00</th>\n",
       "      <td>A</td>\n",
       "    </tr>\n",
       "    <tr>\n",
       "      <th>2019-01-01 03:00:00</th>\n",
       "      <td>A</td>\n",
       "    </tr>\n",
       "    <tr>\n",
       "      <th>2019-01-01 04:00:00</th>\n",
       "      <td>A</td>\n",
       "    </tr>\n",
       "    <tr>\n",
       "      <th>...</th>\n",
       "      <td>...</td>\n",
       "    </tr>\n",
       "    <tr>\n",
       "      <th>2019-03-31 19:00:00</th>\n",
       "      <td>H</td>\n",
       "    </tr>\n",
       "    <tr>\n",
       "      <th>2019-03-31 20:00:00</th>\n",
       "      <td>H</td>\n",
       "    </tr>\n",
       "    <tr>\n",
       "      <th>2019-03-31 21:00:00</th>\n",
       "      <td>H</td>\n",
       "    </tr>\n",
       "    <tr>\n",
       "      <th>2019-03-31 22:00:00</th>\n",
       "      <td>H</td>\n",
       "    </tr>\n",
       "    <tr>\n",
       "      <th>2019-03-31 23:00:00</th>\n",
       "      <td>H</td>\n",
       "    </tr>\n",
       "  </tbody>\n",
       "</table>\n",
       "<p>15120 rows × 1 columns</p>\n",
       "</div>"
      ],
      "text/plain": [
       "                    구분\n",
       "시점                    \n",
       "2019-01-01 00:00:00  A\n",
       "2019-01-01 01:00:00  A\n",
       "2019-01-01 02:00:00  A\n",
       "2019-01-01 03:00:00  A\n",
       "2019-01-01 04:00:00  A\n",
       "...                 ..\n",
       "2019-03-31 19:00:00  H\n",
       "2019-03-31 20:00:00  H\n",
       "2019-03-31 21:00:00  H\n",
       "2019-03-31 22:00:00  H\n",
       "2019-03-31 23:00:00  H\n",
       "\n",
       "[15120 rows x 1 columns]"
      ]
     },
     "execution_count": 183,
     "metadata": {},
     "output_type": "execute_result"
    }
   ],
   "source": [
    "test = pd.read_csv('./test.csv')\n",
    "test['시점'] = pd.to_datetime(test['시점'], format='%Y-%m-%d %H')\n",
    "test.set_index('시점', inplace=True)\n",
    "test"
   ]
  },
  {
   "cell_type": "markdown",
   "id": "c80fb491-d30c-4fcf-9cac-4d9d4cbaf91a",
   "metadata": {},
   "source": [
    "# 구분=D, hour=0 데이터 학습"
   ]
  },
  {
   "cell_type": "code",
   "execution_count": 184,
   "id": "5523e3c9-6e72-44b7-869d-b44dc4787387",
   "metadata": {},
   "outputs": [
    {
     "data": {
      "text/html": [
       "<div>\n",
       "<style scoped>\n",
       "    .dataframe tbody tr th:only-of-type {\n",
       "        vertical-align: middle;\n",
       "    }\n",
       "\n",
       "    .dataframe tbody tr th {\n",
       "        vertical-align: top;\n",
       "    }\n",
       "\n",
       "    .dataframe thead th {\n",
       "        text-align: right;\n",
       "    }\n",
       "</style>\n",
       "<table border=\"1\" class=\"dataframe\">\n",
       "  <thead>\n",
       "    <tr style=\"text-align: right;\">\n",
       "      <th></th>\n",
       "      <th>공급량</th>\n",
       "    </tr>\n",
       "    <tr>\n",
       "      <th>시점</th>\n",
       "      <th></th>\n",
       "    </tr>\n",
       "  </thead>\n",
       "  <tbody>\n",
       "    <tr>\n",
       "      <th>2013-01-01</th>\n",
       "      <td>1434.516</td>\n",
       "    </tr>\n",
       "    <tr>\n",
       "      <th>2013-01-02</th>\n",
       "      <td>1291.316</td>\n",
       "    </tr>\n",
       "    <tr>\n",
       "      <th>2013-01-03</th>\n",
       "      <td>1664.996</td>\n",
       "    </tr>\n",
       "    <tr>\n",
       "      <th>2013-01-04</th>\n",
       "      <td>1688.276</td>\n",
       "    </tr>\n",
       "    <tr>\n",
       "      <th>2013-01-05</th>\n",
       "      <td>1695.316</td>\n",
       "    </tr>\n",
       "    <tr>\n",
       "      <th>...</th>\n",
       "      <td>...</td>\n",
       "    </tr>\n",
       "    <tr>\n",
       "      <th>2018-12-27</th>\n",
       "      <td>1330.120</td>\n",
       "    </tr>\n",
       "    <tr>\n",
       "      <th>2018-12-28</th>\n",
       "      <td>1571.524</td>\n",
       "    </tr>\n",
       "    <tr>\n",
       "      <th>2018-12-29</th>\n",
       "      <td>1574.356</td>\n",
       "    </tr>\n",
       "    <tr>\n",
       "      <th>2018-12-30</th>\n",
       "      <td>1452.599</td>\n",
       "    </tr>\n",
       "    <tr>\n",
       "      <th>2018-12-31</th>\n",
       "      <td>1408.316</td>\n",
       "    </tr>\n",
       "  </tbody>\n",
       "</table>\n",
       "<p>2191 rows × 1 columns</p>\n",
       "</div>"
      ],
      "text/plain": [
       "                 공급량\n",
       "시점                  \n",
       "2013-01-01  1434.516\n",
       "2013-01-02  1291.316\n",
       "2013-01-03  1664.996\n",
       "2013-01-04  1688.276\n",
       "2013-01-05  1695.316\n",
       "...              ...\n",
       "2018-12-27  1330.120\n",
       "2018-12-28  1571.524\n",
       "2018-12-29  1574.356\n",
       "2018-12-30  1452.599\n",
       "2018-12-31  1408.316\n",
       "\n",
       "[2191 rows x 1 columns]"
      ]
     },
     "execution_count": 184,
     "metadata": {},
     "output_type": "execute_result"
    }
   ],
   "source": [
    "# 구분=D, hour=0인 데이터 추출\n",
    "df_D0 = df[(df['구분'] == 'D') & (df.index.hour == 0)]\n",
    "df_D0.drop(columns='구분', inplace=True)\n",
    "df_D0"
   ]
  },
  {
   "cell_type": "code",
   "execution_count": 185,
   "id": "53105d9f-7c53-47cc-b5b1-65ba70e6fd2a",
   "metadata": {},
   "outputs": [
    {
     "data": {
      "image/png": "[encoded data removed]",
      "text/plain": [
       "<Figure size 1152x288 with 1 Axes>"
      ]
     },
     "metadata": {
      "needs_background": "light"
     },
     "output_type": "display_data"
    }
   ],
   "source": [
    "# 시간에 따른 값 확인\n",
    "df_D0.plot(figsize=(16,4),legend=True)\n",
    "plt.title('시간 별 공급량')\n",
    "plt.show()"
   ]
  },
  {
   "cell_type": "code",
   "execution_count": 186,
   "id": "7e144188-a25a-4b6c-9ca4-378e83e70ef9",
   "metadata": {},
   "outputs": [
    {
     "data": {
      "text/html": [
       "<div>\n",
       "<style scoped>\n",
       "    .dataframe tbody tr th:only-of-type {\n",
       "        vertical-align: middle;\n",
       "    }\n",
       "\n",
       "    .dataframe tbody tr th {\n",
       "        vertical-align: top;\n",
       "    }\n",
       "\n",
       "    .dataframe thead th {\n",
       "        text-align: right;\n",
       "    }\n",
       "</style>\n",
       "<table border=\"1\" class=\"dataframe\">\n",
       "  <thead>\n",
       "    <tr style=\"text-align: right;\">\n",
       "      <th></th>\n",
       "      <th>공급량</th>\n",
       "    </tr>\n",
       "    <tr>\n",
       "      <th>시점</th>\n",
       "      <th></th>\n",
       "    </tr>\n",
       "  </thead>\n",
       "  <tbody>\n",
       "    <tr>\n",
       "      <th>2013-01-01</th>\n",
       "      <td>1.766965</td>\n",
       "    </tr>\n",
       "    <tr>\n",
       "      <th>2013-01-02</th>\n",
       "      <td>1.684169</td>\n",
       "    </tr>\n",
       "    <tr>\n",
       "      <th>2013-01-03</th>\n",
       "      <td>1.900226</td>\n",
       "    </tr>\n",
       "    <tr>\n",
       "      <th>2013-01-04</th>\n",
       "      <td>1.913686</td>\n",
       "    </tr>\n",
       "    <tr>\n",
       "      <th>2013-01-05</th>\n",
       "      <td>1.917757</td>\n",
       "    </tr>\n",
       "    <tr>\n",
       "      <th>...</th>\n",
       "      <td>...</td>\n",
       "    </tr>\n",
       "    <tr>\n",
       "      <th>2018-12-27</th>\n",
       "      <td>1.706605</td>\n",
       "    </tr>\n",
       "    <tr>\n",
       "      <th>2018-12-28</th>\n",
       "      <td>1.846182</td>\n",
       "    </tr>\n",
       "    <tr>\n",
       "      <th>2018-12-29</th>\n",
       "      <td>1.847819</td>\n",
       "    </tr>\n",
       "    <tr>\n",
       "      <th>2018-12-30</th>\n",
       "      <td>1.777421</td>\n",
       "    </tr>\n",
       "    <tr>\n",
       "      <th>2018-12-31</th>\n",
       "      <td>1.751817</td>\n",
       "    </tr>\n",
       "  </tbody>\n",
       "</table>\n",
       "<p>2191 rows × 1 columns</p>\n",
       "</div>"
      ],
      "text/plain": [
       "                 공급량\n",
       "시점                  \n",
       "2013-01-01  1.766965\n",
       "2013-01-02  1.684169\n",
       "2013-01-03  1.900226\n",
       "2013-01-04  1.913686\n",
       "2013-01-05  1.917757\n",
       "...              ...\n",
       "2018-12-27  1.706605\n",
       "2018-12-28  1.846182\n",
       "2018-12-29  1.847819\n",
       "2018-12-30  1.777421\n",
       "2018-12-31  1.751817\n",
       "\n",
       "[2191 rows x 1 columns]"
      ]
     },
     "execution_count": 186,
     "metadata": {},
     "output_type": "execute_result"
    }
   ],
   "source": [
    "# minmax scaler로 정규화\n",
    "scaler = sklearn.preprocessing.MinMaxScaler(feature_range=(1, 2))\n",
    "df_D0['공급량']=scaler.fit_transform(df_D0['공급량'].values.reshape(-1,1))\n",
    "df_D0"
   ]
  },
  {
   "cell_type": "code",
   "execution_count": 187,
   "id": "f69e02c2-b5f7-4fed-b370-b7ce321c4b11",
   "metadata": {},
   "outputs": [
    {
     "data": {
      "image/png": "[encoded data removed]",
      "text/plain": [
       "<Figure size 1152x288 with 1 Axes>"
      ]
     },
     "metadata": {
      "needs_background": "light"
     },
     "output_type": "display_data"
    }
   ],
   "source": [
    "# 정규화 된 데이터 시각화\n",
    "df_D0.plot(figsize=(16,4),legend=True)\n",
    "plt.title('시간 별 공급량-minmax')\n",
    "plt.show()"
   ]
  },
  {
   "cell_type": "code",
   "execution_count": 188,
   "id": "99b6d16f-b4ab-40b2-918c-d8d21098dc0b",
   "metadata": {},
   "outputs": [],
   "source": [
    "# LSTM에 들어갈 input data와 output data 형식에 맞게 생성해 주는 함수 정의\n",
    "def load_data(data, seq_len):\n",
    "    X = []\n",
    "    y = []\n",
    "    for i in range(seq_len, len(data)):\n",
    "        X.append(data.iloc[i-seq_len : i, 0])\n",
    "        y.append(data.iloc[i, 0])\n",
    "    \n",
    "    X = np.array(X)\n",
    "    y = np.array(y)\n",
    "        \n",
    "    X = np.reshape(X, (X.shape[0], seq_len, 1))\n",
    "            \n",
    "    return [X, y]"
   ]
  },
  {
   "cell_type": "code",
   "execution_count": 189,
   "id": "3973d143-1a5c-4491-a317-c1fabc35b9ee",
   "metadata": {},
   "outputs": [],
   "source": [
    "# loss function을 custom으로 정의\n",
    "def loss_nmae(true, pred):\n",
    "    score = tf.reduce_mean((tf.math.abs(true-pred))/true)\n",
    "    return score"
   ]
  },
  {
   "cell_type": "code",
   "execution_count": 190,
   "id": "da2ff210-8f98-463a-9dd0-7baeff473d63",
   "metadata": {},
   "outputs": [],
   "source": [
    "# lstm model을 생성해주는 함수 정의\n",
    "def build_model(X, learning_rate):\n",
    "    lstm_model = Sequential()\n",
    "\n",
    "    lstm_model.add(LSTM(40,activation=\"tanh\",return_sequences=True, input_shape=(X.shape[1],1)))\n",
    "\n",
    "    lstm_model.add(LSTM(40,activation=\"tanh\",return_sequences=True))\n",
    "\n",
    "    lstm_model.add(LSTM(40,activation=\"tanh\",return_sequences=False))\n",
    "\n",
    "    lstm_model.add(Dense(1))\n",
    "    \n",
    "    adam = tf.keras.optimizers.Adam(lr=learning_rate)\n",
    "\n",
    "    lstm_model.compile(optimizer=adam, loss=loss_nmae)\n",
    "    \n",
    "    return lstm_model"
   ]
  },
  {
   "cell_type": "code",
   "execution_count": 191,
   "id": "b0664e35-2fbe-4ae0-b312-e025d95e46be",
   "metadata": {},
   "outputs": [],
   "source": [
    "# 하이퍼 파라미터를 입력 해 주면 10번 돌린 모델의 loss값을 출력 해주는 함수 선언\n",
    "def grid_search(data, hyp_parameter):\n",
    "    seq_len, learning_rate, epochs, batch_size = hyp_parameter\n",
    "    val_loss_mean = 0\n",
    "    X, y = load_data(data, seq_len)\n",
    "    print('------------------------------------------------------')\n",
    "    print('Hyper Parameter: seq_len=%d, learning_rate=%.2f, epochs=%d, batch_size=%d' %(seq_len, learning_rate, epochs, batch_size))\n",
    "    for i in range(10):\n",
    "        lstm_model = build_model(X, learning_rate)\n",
    "        grid = lstm_model.fit(X, y, epochs=epochs, batch_size=batch_size, validation_split=0.2, verbose=0)\n",
    "        val_loss = grid.history['val_loss'][-1]\n",
    "        print('> %d) nmae: %.5f' %(i+1, val_loss))\n",
    "        val_loss_mean += val_loss\n",
    "    val_loss_mean = val_loss_mean / 10\n",
    "    print('>> nmae mean: %.5f' %val_loss_mean)\n",
    "    return [seq_len, learning_rate, epochs, batch_size, val_loss_mean]"
   ]
  },
  {
   "cell_type": "code",
   "execution_count": 192,
   "id": "50d48e5e-8c30-445c-98f6-e0fcd6299973",
   "metadata": {},
   "outputs": [],
   "source": [
    "# 각각의 파라미터의 loss값을 계산 해 최적의 파라미터를 계산해주는 함수 선언\n",
    "def search_parameter(data, hyp_parameters):\n",
    "    NMAE = pd.DataFrame(columns=['seq_len', 'learning_rate', 'epochs', 'batch_size', 'nmae'])\n",
    "    for hyp_parameter in hyp_parameters:\n",
    "        result = grid_search(data, hyp_parameter)\n",
    "        NMAE.loc[len(NMAE)] = result\n",
    "    NMAE = NMAE.sort_values('nmae')\n",
    "    seq_len = NMAE['seq_len'].iloc[0]\n",
    "    learning_rate = NMAE['learning_rate'].iloc[0]\n",
    "    epochs = NMAE['epochs'].iloc[0]\n",
    "    batch_size = NMAE['batch_size'].iloc[0]\n",
    "    nmae = NMAE['nmae'].iloc[0]\n",
    "    print('-----------------------------------------------------------------------------------')\n",
    "    print('최적 hyper parameter: seq_len=%d, learning_rate=%.2f, epohcs= %d, batch_size=%d -> nmae=%.5f' \n",
    "          %(seq_len, learning_rate, epochs, batch_size, nmae))\n",
    "    return int(seq_len), learning_rate, int(epochs), int(batch_size)"
   ]
  },
  {
   "cell_type": "code",
   "execution_count": 193,
   "id": "71f9e379-7a69-467c-b814-39542da089d0",
   "metadata": {},
   "outputs": [],
   "source": [
    "# 하이퍼 파라미터를 만들어주는 함수 선언\n",
    "def set_hyp_parameters():\n",
    "    seq_len = [7, 28, 35]\n",
    "    learning_rate = [0.005, 0.01, 0.05]\n",
    "    n_epochs = [100, 200, 300]\n",
    "    n_batch = [50, 100, 500]\n",
    "    hyp_parameters = list()\n",
    "    for i in seq_len:\n",
    "        for j in learning_rate:\n",
    "            for k in n_epochs:\n",
    "                for l in n_batch:\n",
    "                    cfg = [i, j, k, l]\n",
    "                    hyp_parameters.append(cfg)\n",
    "    print('number of hyper parameters: %d' % len(hyp_parameters))\n",
    "    return hyp_parameters"
   ]
  },
  {
   "cell_type": "code",
   "execution_count": 194,
   "id": "59099720-bb45-437d-8ffc-941dfa26335d",
   "metadata": {},
   "outputs": [
    {
     "name": "stdout",
     "output_type": "stream",
     "text": [
      "number of hyper parameters: 81\n"
     ]
    }
   ],
   "source": [
    "# 하이퍼 파라미터 생성\n",
    "hyp_parameters = set_hyp_parameters()"
   ]
  },
  {
   "cell_type": "code",
   "execution_count": null,
   "id": "3db795cd-f0e4-47a4-a607-88aeea7caee5",
   "metadata": {},
   "outputs": [
    {
     "name": "stdout",
     "output_type": "stream",
     "text": [
      "------------------------------------------------------\n",
      "Hyper Parameter: seq_len=7, learning_rate=0.01, epochs=100, batch_size=50\n",
      "> 1) nmae: 0.02229\n",
      "> 2) nmae: 0.02291\n",
      "> 3) nmae: 0.02549\n",
      "> 4) nmae: 0.02435\n",
      "> 5) nmae: 0.02246\n",
      "> 6) nmae: 0.02368\n",
      "> 7) nmae: 0.02684\n",
      "> 8) nmae: 0.02227\n",
      "> 9) nmae: 0.02267\n",
      "> 10) nmae: 0.02243\n",
      ">> nmae mean: 0.02354\n",
      "------------------------------------------------------\n",
      "Hyper Parameter: seq_len=7, learning_rate=0.01, epochs=100, batch_size=100\n",
      "> 1) nmae: 0.02754\n",
      "> 2) nmae: 0.02588\n",
      "> 3) nmae: 0.02491\n",
      "> 4) nmae: 0.02331\n",
      "> 5) nmae: 0.02672\n",
      "> 6) nmae: 0.02775\n",
      "> 7) nmae: 0.03158\n",
      "> 8) nmae: 0.02276\n",
      "> 9) nmae: 0.02218\n",
      "> 10) nmae: 0.02693\n",
      ">> nmae mean: 0.02596\n",
      "------------------------------------------------------\n",
      "Hyper Parameter: seq_len=7, learning_rate=0.01, epochs=100, batch_size=500\n",
      "> 1) nmae: 0.04075\n",
      "> 2) nmae: 0.03783\n",
      "> 3) nmae: 0.03912\n",
      "> 4) nmae: 0.05093\n",
      "> 5) nmae: 0.03777\n",
      "> 6) nmae: 0.03643\n",
      "> 7) nmae: 0.03619\n",
      "> 8) nmae: 0.04306\n",
      "> 9) nmae: 0.03583\n",
      "> 10) nmae: 0.04090\n",
      ">> nmae mean: 0.03988\n",
      "------------------------------------------------------\n",
      "Hyper Parameter: seq_len=7, learning_rate=0.01, epochs=200, batch_size=50\n",
      "> 1) nmae: 0.02253\n",
      "> 2) nmae: 0.02268\n",
      "> 3) nmae: 0.02409\n",
      "> 4) nmae: 0.02280\n",
      "> 5) nmae: 0.02217\n",
      "> 6) nmae: 0.02253\n",
      "> 7) nmae: 0.02225\n",
      "> 8) nmae: 0.02214\n",
      "> 9) nmae: 0.02282\n",
      "> 10) nmae: 0.02278\n",
      ">> nmae mean: 0.02268\n",
      "------------------------------------------------------\n",
      "Hyper Parameter: seq_len=7, learning_rate=0.01, epochs=200, batch_size=100\n",
      "> 1) nmae: 0.02307\n",
      "> 2) nmae: 0.02224\n",
      "> 3) nmae: 0.02567\n",
      "> 4) nmae: 0.02262\n",
      "> 5) nmae: 0.02242\n",
      "> 6) nmae: 0.02720\n"
     ]
    }
   ],
   "source": [
    "# 최적 파라미터 계산\n",
    "seq_len, learning_rate, epochs, batch_size = search_parameter(df_D0, hyp_parameters)"
   ]
  },
  {
   "cell_type": "code",
   "execution_count": null,
   "id": "0b0e9807-1326-4804-9074-1af48a6b1ce2",
   "metadata": {
    "tags": []
   },
   "outputs": [],
   "source": [
    "# 계산된 파라미터로 LSTM 모델 학습\n",
    "X, y = load_data(df_D0, seq_len)\n",
    "\n",
    "lstm_model = Sequential()\n",
    "\n",
    "lstm_model.add(LSTM(40,activation=\"tanh\",return_sequences=True, input_shape=(X.shape[1],1)))\n",
    "\n",
    "lstm_model.add(LSTM(40,activation=\"tanh\",return_sequences=True))\n",
    "\n",
    "lstm_model.add(LSTM(40,activation=\"tanh\",return_sequences=False))\n",
    "\n",
    "lstm_model.add(Dense(1))\n",
    "\n",
    "adam = tf.keras.optimizers.Adam(lr=learning_rate)\n",
    "\n",
    "lstm_model.compile(optimizer=adam, loss=loss_nmae)\n",
    "model = lstm_model.fit(X, y, epochs=epochs, batch_size=batch_size, validation_split=0.2)\n",
    "\n",
    "lstm_model.summary()"
   ]
  },
  {
   "cell_type": "markdown",
   "id": "e236c3a0-70ab-4cbf-ba19-ccf71cc13805",
   "metadata": {},
   "source": [
    "# 구분=D, hour=0 데이터 예측"
   ]
  },
  {
   "cell_type": "code",
   "execution_count": null,
   "id": "89422991-c2c2-4aa7-b3c0-bb674f4fdbf6",
   "metadata": {},
   "outputs": [],
   "source": [
    "# test에서 구분=D, hour=0인 데이터 추출\n",
    "test_D0 = test[(test['구분'] == 'D') & (test.index.hour == 0)]\n",
    "test_D0.drop(columns='구분', inplace=True)\n",
    "test_D0"
   ]
  },
  {
   "cell_type": "code",
   "execution_count": null,
   "id": "3f0996cb-2dc0-4cc2-8baf-4e4ac1b6a94a",
   "metadata": {},
   "outputs": [],
   "source": [
    "# 공급량은 null으로 생성\n",
    "test_D0['공급량'] = np.nan\n",
    "test_D0"
   ]
  },
  {
   "cell_type": "code",
   "execution_count": null,
   "id": "d5ca2867-d101-4e29-b50f-f809307e33a0",
   "metadata": {},
   "outputs": [],
   "source": [
    "# D0데이터에 train과 test결합\n",
    "D0 = df_D0.append(test_D0)\n",
    "D0"
   ]
  },
  {
   "cell_type": "code",
   "execution_count": null,
   "id": "3f81ac09-977c-4eea-8bcc-abe04f6af35b",
   "metadata": {},
   "outputs": [],
   "source": [
    "# NaN값을 순서대로 하나씩 계산\n",
    "for i in range(len(test_D0)):\n",
    "    pred = lstm_model.predict(np.reshape(np.array(D0.dropna()[len(D0.dropna())-seq_len:]), (1, seq_len, 1)))\n",
    "    D0.iloc[len(D0.dropna())] = pred\n",
    "\n",
    "D0"
   ]
  },
  {
   "cell_type": "code",
   "execution_count": null,
   "id": "3b438f0a-988e-4bd2-a971-b2f2d792368e",
   "metadata": {},
   "outputs": [],
   "source": [
    "# 생성된 데이터 시각화\n",
    "D0.plot(figsize=(16,4),legend=True)\n",
    "plt.title('구분: D, 시간: 0, 시간 별 공급량')\n",
    "plt.show()"
   ]
  },
  {
   "cell_type": "code",
   "execution_count": null,
   "id": "28263294-36dd-4204-baf0-ea97d466596e",
   "metadata": {},
   "outputs": [],
   "source": [
    "# 위에서 생성한 scaler를 활용하여 scale 복원\n",
    "D0['공급량'] = scaler.inverse_transform(D0)\n",
    "D0"
   ]
  },
  {
   "cell_type": "code",
   "execution_count": null,
   "id": "dd7a2df2-e2fd-498e-8bf5-99095da50215",
   "metadata": {},
   "outputs": [],
   "source": []
  }
 ],
 "metadata": {
  "kernelspec": {
   "display_name": "Python 3",
   "language": "python",
   "name": "python3"
  },
  "language_info": {
   "codemirror_mode": {
    "name": "ipython",
    "version": 3
   },
   "file_extension": ".py",
   "mimetype": "text/x-python",
   "name": "python",
   "nbconvert_exporter": "python",
   "pygments_lexer": "ipython3",
   "version": "3.8.8"
  }
 },
 "nbformat": 4,
 "nbformat_minor": 5
}
